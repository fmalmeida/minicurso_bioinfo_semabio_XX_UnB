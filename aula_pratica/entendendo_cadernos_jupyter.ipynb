{
 "cells": [
  {
   "cell_type": "markdown",
   "metadata": {
    "id": "0avo2gvZrUm0"
   },
   "source": [
    "# Olá\n",
    "\n",
    "Autor: Felipe Marques de Almeida\n",
    "\n",
    "<img src=\"https://logodownload.org/wp-content/uploads/2014/09/twitter-logo-1.png\" width=\"20\"> [@fmarquesalmeida](https://twitter.com/fmarquesalmeida)\n",
    "\n",
    "Olá, este `jupyter notebook` foi criado com o objetivo de providenciar um rápido guia, bem simples, de como executar e utilizar `cadernos jupyter`. Estes cadernos serão utilizados para ministrar a aula prática do minicurso de Bioinformática da XX semabio UnB.\n",
    "\n",
    "> Este minicurso estará sempre publicamente disponível no github, sinta-se a vontade para utilizá-lo e revisitá-lo quando quiser. \n",
    ">\n",
    "> -- https://fmalmeida.github.io/minicurso_bioinfo_semabio_XX_UnB/"
   ]
  },
  {
   "cell_type": "markdown",
   "metadata": {
    "id": "iGbwkTsFIMXJ"
   },
   "source": [
    "# Entendendo notebooks (colab e jupyter)\n",
    "\n",
    "Existem diversos tutoriais online que explicam toda a completude e funcionalidades de cadernos Jupyter. Aqui neste documento, será abordado somente o básico de forma a permitir o acompanhamento da aula prática. Sinta-se livre para descobrir mais depois.\n",
    "\n",
    "* Tutorial jupyter: https://www.dataquest.io/blog/jupyter-notebook-tutorial/\n",
    "\n",
    "* Tutorial Google Colab: https://colab.research.google.com/notebooks/intro.ipynb#\n",
    "\n",
    "Em resumo, cedernos jupyter ou colab, são documentos interativos que permitem a execução de linhas de comando em uma mescla quase perfeita entre texto e código. Isto se dá através da utilização de células específicas para códigos ou textos."
   ]
  },
  {
   "cell_type": "markdown",
   "metadata": {
    "id": "DVIbeD3MMtfq"
   },
   "source": [
    "## O que são células?\n",
    "\n",
    "Células são pequenos blocos de texto ou código que compõem o corpo do caderno (`notebook`). São a base da ferramenta.\n",
    "\n",
    "Uma célula de código é capaz de executar e mostrar os resultados de uma linha de códido. Diversas linguagens podem ser usadas dependendo do [kernel](https://github.com/jupyter/jupyter/wiki/Jupyter-kernels) selecionado.\n",
    "\n",
    "- Células são principalmente de dois tipos:\n",
    "\n",
    "    - Código\n",
    "    - Texto, utilizando sintaxe markdown.\n",
    "\n",
    "Células podem ser criadas através do botão `+` no topo da página. Ao clicar em uma região do documento (seja código ou texto) o notebook irá \"enfatizar\" as bordas da célula e permitirá que você edite/execute a célula selecionada.\n",
    "\n",
    "<figure>\n",
    "<img src=\"https://www.dataquest.io/wp-content/uploads/2019/01/new-notebook.jpg\" width=\"100%\">\n",
    "<figcaption>Fig 1. Captura de tela demonstrando como células selecionadas são destacadas. Podemos ver que a células selecionada está destacada em coloração verde.</figcaption>\n",
    "</figure>"
   ]
  },
  {
   "cell_type": "markdown",
   "metadata": {
    "id": "SnDA3NI8MxEC"
   },
   "source": [
    "## Executando uma célula de código\n",
    "\n",
    "Para executar o código em uma célula de código, clique nela e depois pressione o `botão Play` no topo da página ou use o atalho do teclado \"Ctrl+Enter\". Para editar o código, basta clicar na célula e começar a editar (Veja o GIF).\n",
    "\n",
    "<center>\n",
    "<img src=\"https://j.gifs.com/OgYjqg.gif\" width=\"50%\">\n",
    "</center>\n",
    "\n",
    "Um exemplo de célula de código:"
   ]
  },
  {
   "cell_type": "code",
   "execution_count": null,
   "metadata": {
    "colab": {
     "base_uri": "https://localhost:8080/"
    },
    "id": "J9vkE3LgGBF7",
    "outputId": "b1faa37a-bee8-4e47-c794-9db888e1b897"
   },
   "outputs": [],
   "source": [
    "seconds_in_a_day = 24 * 60 * 60\n",
    "seconds_in_a_day"
   ]
  },
  {
   "cell_type": "markdown",
   "metadata": {
    "id": "ev3w9JHzG4kt"
   },
   "source": [
    "<img src=\"https://icon-library.com/images/tip-icon/tip-icon-7.jpg\" width=\"20\">  -- As variáveis definidas em uma célula podem ser usadas mais tarde em outras células:"
   ]
  },
  {
   "cell_type": "code",
   "execution_count": null,
   "metadata": {
    "colab": {
     "base_uri": "https://localhost:8080/"
    },
    "id": "EQE_pgpAHpW-",
    "outputId": "415050a0-3634-4f3a-bd7e-fc9dd50cad2d"
   },
   "outputs": [],
   "source": [
    "seconds_in_a_day / 4"
   ]
  },
  {
   "cell_type": "markdown",
   "metadata": {
    "id": "DIZ96Fr7JHKI"
   },
   "source": [
    "## Linguagem do notebook\n",
    "\n",
    "Por padrão, a linguagem de programação adotada pelas células de código é o Python. Porém, outras linguagens podem ser utilizadas através de [`Jupyter cell magics`](https://ipython.readthedocs.io/en/stable/interactive/magics.html#cell-magics).\n",
    "\n",
    "Por exemplo, abaixo executaremos um comando em bash, que lista todos os arquivos ou diretórios existentes na pasta de trabalho.\n",
    "\n",
    "<img src=\"https://icon-library.com/images/tip-icon/tip-icon-7.jpg\" width=\"20\">  -- Note que para isso é essencial que a primeira linha da célula (o seu cabeçalho) seja `%%bash`.\n",
    "\n",
    "> Não se assute, o comando abaixo é um comando bem simples de BASH que lista todos os arquivos de um diretório. Coloquei-o somente para ilustrar como podemos mesclar e utilizar códigos BASH no caderno jupyter."
   ]
  },
  {
   "cell_type": "code",
   "execution_count": null,
   "metadata": {
    "colab": {
     "base_uri": "https://localhost:8080/"
    },
    "id": "US-WZSgqJrl3",
    "outputId": "db64c246-444c-4f63-a7e3-bcee3927c485"
   },
   "outputs": [],
   "source": [
    "%%bash\n",
    "ls"
   ]
  },
  {
   "cell_type": "markdown",
   "metadata": {
    "id": "j1zG0Rdv_zMF"
   },
   "source": [
    "Quando se deseja somente executar uma única linha de comando em bash, não se faz necessário transformar a célula com `cell magics`. Podemos simplesmente começar a linha com uma `!`."
   ]
  },
  {
   "cell_type": "code",
   "execution_count": null,
   "metadata": {
    "colab": {
     "base_uri": "https://localhost:8080/"
    },
    "id": "QdnFklwyAFIa",
    "outputId": "c3d61700-1610-4fcb-ae12-f6a1fa1063c8"
   },
   "outputs": [],
   "source": [
    "!ls"
   ]
  },
  {
   "cell_type": "markdown",
   "metadata": {
    "id": "LpizI2X7KPOf"
   },
   "source": [
    "> Para nosso minicurso, estes conceitos e informações serão suficientes. Porém, não tenha receio em [aprender mais sobre o Google Colab](https://colab.research.google.com/notebooks/intro.ipynb#) e como ele pode impactar seus estudos de linguagem de programação. "
   ]
  },
  {
   "cell_type": "markdown",
   "metadata": {
    "id": "ChjhTjyUkfL3"
   },
   "source": [
    "## Armazenamento e ambiente\n",
    "\n",
    "Não tenha medo de errar! O erro faz parte da aprendizagem.\n",
    "\n",
    "Além disso, notebooks Google Colab e notebooks jupyter armazenados no Binder são executados em pequenas máquinas virtuais disponibilizadas pelo Google e/ou Binder. Ou seja, os comandos não serão executados em seu computador e nem os arquivos serão salvos nele.\n",
    "\n",
    "As entradas e saídas ficarão disponíveis somente enquanto sua sessão está ativa."
   ]
  }
 ],
 "metadata": {
  "colab": {
   "collapsed_sections": [],
   "name": "teste_minicurso.ipynb",
   "provenance": [],
   "toc_visible": true
  },
  "kernelspec": {
   "display_name": "Python 3",
   "language": "python",
   "name": "python3"
  },
  "language_info": {
   "codemirror_mode": {
    "name": "ipython",
    "version": 3
   },
   "file_extension": ".py",
   "mimetype": "text/x-python",
   "name": "python",
   "nbconvert_exporter": "python",
   "pygments_lexer": "ipython3",
   "version": "3.9.1"
  }
 },
 "nbformat": 4,
 "nbformat_minor": 4
}
