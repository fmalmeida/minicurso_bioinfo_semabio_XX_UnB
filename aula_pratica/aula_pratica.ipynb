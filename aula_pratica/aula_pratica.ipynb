{
 "cells": [
  {
   "cell_type": "markdown",
   "metadata": {
    "id": "0avo2gvZrUm0"
   },
   "source": [
    "# Olá\n",
    "\n",
    "Autor: Felipe Marques de Almeida\n",
    "\n",
    "<img src=\"https://logodownload.org/wp-content/uploads/2014/09/twitter-logo-1.png\" width=\"20\"> [@fmarquesalmeida](https://twitter.com/fmarquesalmeida)\n",
    "\n",
    "Olá, este `jupyter notebook` foi criado com o objetivo de providenciar um rápido guia, bem simples, de como executar e utilizar `cadernos jupyter`. Estes cadernos serão utilizados para ministrar a aula prática do minicurso de Bioinformática da XX semabio UnB.\n",
    "\n",
    "> Este minicurso estará sempre publicamente disponível no github, sinta-se a vontade para utilizá-lo e revisitá-lo quando quiser. \n",
    ">\n",
    "> -- https://fmalmeida.github.io/minicurso_bioinfo_semabio_XX_UnB/"
   ]
  },
  {
   "cell_type": "markdown",
   "metadata": {
    "id": "f9I2s1j8f2dI"
   },
   "source": [
    "# Aula prática\n",
    "\n",
    "Na aula prática deste minicurso iremos aprender como funcionam e como utilizar algumas das principais ferramentas e bancos de dados utilizados atualmente na Bioinformática. Veremos alguns dos principais recursos e bancos de dados que estão sendo utilizados para o estudo, monitoramento e combate do SARS-CoV-2.\n",
    "\n",
    "### Objetivo\n",
    "\n",
    "    Descobrir e entender como ferramentas de Bioinformática podem auxiliar no controle e combate de epidemias."
   ]
  },
  {
   "cell_type": "markdown",
   "metadata": {
    "id": "2pNDwzPw_MzW"
   },
   "source": [
    "# 1. Traçando a origem do novo Coronavirus (2019-nCoV)\n",
    "\n",
    "> De onde surgiu o 2019-nCoV?\n",
    "\n",
    "Para tentar responder esta pergunta, precisamos criar uma [árvore filogenética][arvore] do vírus com outros vírus SARS. A árvore nos fornecerá uma representação visual do caminho evolutivo mais provável das espécies. Uma árvore filogenética é construída com base em um arquivo de alinhamento múltiplo de sequências. Estas sequências podem ser genes ou proteínas pré-definidas, ou até mesmo genomas inteiros.\n",
    "\n",
    "No contexto da era genômica, tem-se a facilidade de sequenciar o genoma completo do vírus de diversos pacientes. Isso permite comparar diversos genomas relativos ao surto para verificar se as conclusões que tiramos com os dois genomas acima se mantém. Devido ao tamanho pequeno dos genomas virais, quase sempre adota-se o alinhamento e filogenia utilizando o genoma completo, a não ser que se deseje traçar o caminho evolutivo de um gene em específico.\n",
    "\n",
    "Desta forma, se coletarmos outros genomas de surtos anteriores de outros Coronavirus (MERS [middle east respiratory syndrome], SARS [Severe acute respiratory syndrome]) e também genomas de outros hospedeiros (morcegos, camelos), pode-se postular qual o hospedeiro original do 2019-nCoV.\n",
    "\n",
    "No [NCBI][ncbi] foi feita uma seleção prévia de alguns genomas completos de diversos tipos de Coronavirus, cujos números de acesso são:\n",
    "\n",
    "> MN908947.3<br>\n",
    "MG772933.1<br>\n",
    "NC_004718.3<br>\n",
    "MN988669.1<br>\n",
    "MN988668.1<br>\n",
    "MN994467.1<br>\n",
    "KX574227.1<br>\n",
    "MF598691.1<br>\n",
    "MN985325.1<br>\n",
    "\n",
    "**Estes números de acesso foram salvos em um arquivo chamado \"lista_accs_cov_origem.txt\"**\n",
    "\n",
    "## 1.1 Baixando os genomas virais\n",
    "\n",
    "O primeiro passo para realizarmos a análise filogenética é, obtermos as sequências genômicas em [arquivos FASTA][fasta]. Para isso utilizaremos o programa [ncbi-acc-download][acc-down].\n",
    "\n",
    "> Este programa já se encontra pré-instalado no nosso caderno de exercícios. Podemos usar o comando `ncbi-acc-download -h` para checar como utilizá-lo, veja abaixo:\n",
    "\n",
    "[ncbi]: https://www.ncbi.nlm.nih.gov/\n",
    "[arvore]: https://pt.khanacademy.org/science/biology/her/tree-of-life/a/phylogenetic-trees\n",
    "[fasta]: https://pt.wikipedia.org/wiki/Formato_FASTA\n",
    "[acc-down]: https://github.com/kblin/ncbi-acc-download"
   ]
  },
  {
   "cell_type": "code",
   "execution_count": null,
   "metadata": {},
   "outputs": [],
   "source": [
    "%%bash\n",
    "ncbi-acc-download -h"
   ]
  },
  {
   "cell_type": "markdown",
   "metadata": {},
   "source": [
    "---\n",
    "\n",
    "Ao observar a mensagem de ajuda acima, percebemos que a forma mais comum de utilização do programa é `ncbi-acc-download <NUM-DE-ACESSO>`. Portanto, se levarmos em conta que salvamos todos os números de acesso dos genomas que queremos em um arquivo chamado \"lista_accs_cov_origem.txt\" podemos utilizá-lo em conjunto com o comando `cat` e `ncbi-acc-download` para baixar todos os genomas de uma vez, ao invés de precisar acessar 1 por 1 no banco de dados\n",
    "\n",
    "**Linha de comando:**\n",
    "```bash\n",
    "# Tente executar esta linha de comando na célula de código abaixo.\n",
    "ncbi-acc-download -F fasta -o genomas_cov_para_filogenia.fasta $(cat lista_accs_cov_origem.txt)\n",
    "```"
   ]
  },
  {
   "cell_type": "code",
   "execution_count": null,
   "metadata": {},
   "outputs": [],
   "source": [
    "%%bash\n",
    "# tente criar seu código aqui! Não precisa remover esta linha, basta digitar o código abaixo.\n",
    "ncbi-acc-download -F fasta -o genomas_cov_para_filogenia.fasta $(cat lista_accs_cov_origem.txt)"
   ]
  },
  {
   "cell_type": "markdown",
   "metadata": {},
   "source": [
    "---\n",
    "No código acima, utilizamos o programa `ncbi-acc-download` para baixar em formato fasta (`-F fasta`) todos os genomas presentes na lista (`$(cat lista_accs_cov_origem.txt)`) e salvá-los em um único arquivo chamado genomas_cov_para_filogenia.fasta.\n",
    "\n",
    "Execute a linha de comando abaixo para verificar que todos os 9 genomas desejados estão presentes no arquivo final:"
   ]
  },
  {
   "cell_type": "code",
   "execution_count": null,
   "metadata": {},
   "outputs": [],
   "source": [
    "%%bash\n",
    "grep \">\" genomas_cov_para_filogenia.fasta"
   ]
  },
  {
   "cell_type": "markdown",
   "metadata": {},
   "source": [
    "## 1.2 Alinhando os genomas\n",
    "\n",
    "O segundo passo, após a obtenção dos genomas desejados é a realização de um [alinhamento múltiplo de sequências](https://pt.wikipedia.org/wiki/Alinhamento_m%C3%BAltiplo_de_sequ%C3%AAncias). Em termos bem gerais, alinhar sequências consiste em posicionar as sequências \"alinhadas\" em colunas da melhor forma possível com o objetivo de encontrar regiões de similaridade entre elas, como mostrado na figura abaixo:\n",
    "\n",
    "\n",
    "<figure>\n",
    "    <center>\n",
    "        <img src=\"https://img.vivaolinux.com.br/imagens/artigos/comunidade/clustalx_sequencia.gif\" width=\"50%\">\n",
    "    </center>\n",
    "        <figcaption>Fig. 1. Exemplificação de alinhamento múltiplo de sequências. Regiões conservadas, ou seja, regiões de similaridade, são coloridas com a mesma cor de forma a permitir a fácil identificação da conservação entre as sequências. São estas informações de similaridade que são usadas por programas de filogenia para \"desenhar\" árvores filogenéticas.</figcaption>\n",
    "</figure>\n",
    "\n",
    "Um dos principais programas utilizados na atualidade para a realização do alinhamento múltiplo entre sequências é o programa [MAFFT](https://mafft.cbrc.jp/alignment/software/).\n",
    "\n",
    "> Este programa já se encontra pré-instalado em nosso caderno de exercícios. Podemos usar o comando `mafft -h` para entender sua utilização, que é bastante simples."
   ]
  },
  {
   "cell_type": "code",
   "execution_count": null,
   "metadata": {},
   "outputs": [],
   "source": [
    "%%bash\n",
    "mafft -h || exit 0 # o comando \"|| exit 0\" está aí somente para evitar o código de erro já que o programa não possui uma chamada para a ajuda."
   ]
  },
  {
   "cell_type": "markdown",
   "metadata": {},
   "source": [
    "---\n",
    "\n",
    "Ao observar a mensagem de ajuda acima, percebemos que a forma mais comum de utilização do programa é `mafft <ARQUIVO FASTA> <ARQUIVO FINAL DE ALINHAMENTO>`. Portanto, podemos utilizar o programa para obter um alinhamento das nossas sequências de coronnavírus da seguinte forma:\n",
    "\n",
    "**Linha de comando:**\n",
    "```bash\n",
    "# Tente executar esta linha de comando na célula de código abaixo.\n",
    "mafft --auto --clustalout genomas_cov_para_filogenia.fasta > genomas_cov_alinhados.clustal\n",
    "```\n",
    "\n",
    "Obs: Nesta linha de comando, o parâmetros `--auto` permite que o programa escolha os melhores parâmetros sozinho e o parâmetro `--clustalout` solicita que o resultado seja escrito em um formato geralmente mais utilizado chamado clustal."
   ]
  },
  {
   "cell_type": "code",
   "execution_count": null,
   "metadata": {},
   "outputs": [],
   "source": [
    "%%bash\n",
    "# tente criar seu código aqui! Não precisa remover esta linha, basta digitar o código abaixo.\n",
    "# Lembre-se de não usar o \"#\" no início das linhas pois ele indica linhas de comentário"
   ]
  },
  {
   "cell_type": "markdown",
   "metadata": {},
   "source": [
    "---\n",
    "Após executar o comando acima, podemos utilizar o comando `head` para verificar as 10 primeiras linhas do resultado e ver se tudo está como desejamos:"
   ]
  },
  {
   "cell_type": "code",
   "execution_count": null,
   "metadata": {},
   "outputs": [],
   "source": [
    "%%bash\n",
    "head genomas_cov_alinhados.clustal"
   ]
  },
  {
   "cell_type": "markdown",
   "metadata": {},
   "source": [
    "## 1.3 Construindo a árvore filogenética\n",
    "\n",
    "Finalmente, após termos alinhado todos os genomas Coronavírus selecionados, podemos utilizar o resultado para a construção de uma árvore filogenética. Existem diversos programas ([lista de programas](https://en.wikipedia.org/wiki/List_of_phylogenetics_software)), tanto em linha de comando quanto em aplicações web que podem ser utilizados para a construção de árvores filogenéticas.\n",
    "\n",
    "Ao escolher um programa devemos sempre ter em mente que não existe um programa ideal, que resolva todas as necessidades de uma análise. Cada programa possui uma metodologia e algoritmo diferente que lhes proprocionam pontos fracos e fortes que devem sempre ser considerados.\n",
    "\n",
    "Para o nosso caso, como desejamos obter somente uma prévia da estrutura da árvore filogenética, temos poucas sequências e desejamos priorizar velocidade e pouco consumo de memória, utilizaremos o programa [iqtree](http://www.iqtree.org/).\n",
    "\n",
    "> Este programa já se encontra pré-instalado em nosso caderno de exercícios. Podemos usar o comando `iqtree -h` para entender sua utilização, que é bastante simples."
   ]
  },
  {
   "cell_type": "code",
   "execution_count": null,
   "metadata": {},
   "outputs": [],
   "source": [
    "%%bash\n",
    "iqtree -h"
   ]
  },
  {
   "cell_type": "markdown",
   "metadata": {},
   "source": [
    "---\n",
    "Ao observar a mensagem de ajuda acima, percebemos que a forma mais comum de utilização do programa é `iqtree -s <ARQUIVO DE ALINHAMENTO>`.\n",
    "\n",
    "> **Como poderíamos usar este programa para baixar as sequências de genoma listadas anteriormente?**\n",
    "\n",
    "Este programa irá produzir diversos arquivos em nossa pasta que são utilizados para o cálcula e predição da árvore filogenética que será armazenada em um arquivo final com o sufixo `.treefile`."
   ]
  },
  {
   "cell_type": "code",
   "execution_count": null,
   "metadata": {},
   "outputs": [],
   "source": [
    "%%bash\n",
    "# tente criar seu código aqui! Não precisa remover esta linha, basta digitar o código abaixo.\n",
    "# Lembre-se de não usar o \"#\" no início das linhas pois ele indica linhas de comentário"
   ]
  },
  {
   "cell_type": "code",
   "execution_count": null,
   "metadata": {},
   "outputs": [],
   "source": [
    "%%bash\n",
    "# veja os resultados com o programa \"ls\"\n",
    "ls"
   ]
  },
  {
   "cell_type": "markdown",
   "metadata": {},
   "source": [
    "## 1.4 Visualização da árvore filogenética\n",
    "\n",
    "Assim como as ferramentas, ou programas, para realizar o alinhamento de sequências e o cálculo da árvore, existem inúmeros programas para a visualização de árvores filogenéticas, em linha de comando ou em aplicações web (veja uma [breve lista de programas](https://www.biostars.org/p/2438/)). Desta forma, assim como na etapa anterior, estamos somente desejando uma visualização rápida dos resultados, focando na velocidade e simplicidade. Tendo isto em mente, utilizaremos para nossa tarefa a ferramenta [plottree](https://github.com/iBiology/plottree).\n",
    "\n",
    "### 1.4.1 plottree\n",
    "\n",
    "Para termos uma figura da árvore filogenética de maneira bem simples e rápida temos o programa plottree, que apesar de rápido e eficiente, não permite a edição interativa das árvores geradas.\n",
    "\n",
    "> Tente executar a seguinte linha de comando:"
   ]
  },
  {
   "cell_type": "code",
   "execution_count": null,
   "metadata": {},
   "outputs": [],
   "source": [
    "%%bash\n",
    "plottree genomas_cov_alinhados.clustal.treefile -o plottree_fig.png"
   ]
  },
  {
   "cell_type": "markdown",
   "metadata": {},
   "source": [
    "---\n",
    "Depois de executar o comando escreva o seguinte código (de \\<figure> até \\</figure>) na _célula markdown_ em branco abaixo:\n",
    "\n",
    "```html\n",
    "<figure>\n",
    "    <center>\n",
    "        <img src=\"plottree_fig.png\" width=\"30%\">\n",
    "    </center>\n",
    "    <figcaption>Árvore filogenética desenhada com plottree</figcaption>\n",
    "</figure>\n",
    "```"
   ]
  },
  {
   "cell_type": "markdown",
   "metadata": {},
   "source": []
  },
  {
   "cell_type": "markdown",
   "metadata": {},
   "source": [
    "## 2. Calculando / detectando variações\n",
    "\n",
    "Uma outra tarefa frequente em Bioinformática é a detecção de variações importantes entre genomas de uma espécie. Em um contexto bem geral, estas variações (mutações) podem ser neutras, negativas ou positivas. Geralmente, a frequência dos tipos de mutação é espécie dependente. Quando um indivíduo, ou pequena população de uma espécie acumula um certo nível de variações \"não neutras\" entre elas, dizemos que esta é uma nova [linhagem](http://www.genomahcov.fiocruz.br/linhagens/).\n",
    "\n",
    "Atualmente, sabemos que existem 4 principais variantes / linhagens do SARS-CoV-2. São elas:\n",
    "\n",
    "* A linhagem Alpha (B.1.1.7);\n",
    "* A linhagem Beta (B.1.351);\n",
    "* A linhagem Gamma (P.1);\n",
    "* A linhagem Delta (B.1.617.2);\n",
    "\n",
    "Dentre elas, atualmente, tem-se bastante preocupação acerca da variante Delta que aparenta ser mais contagiosa e mais letal. Mas, quais seriam, e onde ocorrem, as mutações desta linhagem que culminaram neste [fenótipo](https://pt.wikipedia.org/wiki/Fen%C3%B3tipo) mais preocupante?\n",
    "\n",
    "De acordo com o [relatório da iniciativa PANGO lineages sobre a linhagem B.1.617.2](https://cov-lineages.org/global_report_B.1.617.2.html) e do [grande consórcio GISAID + Nextstrain](https://covariants.org/variants/21A.S.154K), esta linhagem teve seu primeiro relato na India, em 21 de Novembro de 2020 e, atualmente, já se encontra em 64 países, com mais de 28 mil registros. Segundo aos relatórios de vigilância genômica registrados pelos grupos [PANGO lineages](https://cov-lineages.org/index.html), [Nextstrain](https://nextstrain.org) e [GISAID](https://www.gisaid.org/), existem 12 principais mutações existentes que definem, ou distinguem estas linhagens das outras:\n",
    "\n",
    "* S:T19R\n",
    "* S:L452R\n",
    "* S:T478K\n",
    "* S:P681R\n",
    "* S:D950N\n",
    "* ORF3a:S26L\n",
    "* M:I82T\n",
    "* ORF7a:V82A\n",
    "* ORF7a:T120I\n",
    "* N:D63G\n",
    "* N:R203M\n",
    "* N:D377Y\n",
    "\n",
    "> Os nomes (ou letras) antes do \":\" indica a proteína na qual aquela mutação é encontrada. Vale lembrar, que estas mutações são mutações encontradas na linhagem Delta, mas não significa dizer que todo vírus da linhagem terá todas as mutações. Elas têm frequências diferentes. Com estas mutações, as ferramentas categorizam como pertecente a mesma linhagem quando pelo menos 5 destas mutações estão presentes.\n",
    "\n",
    "> Dado um genoma qualquer da linhagem Delta, vamos tentar identificar estas variações em seu genoma?\n",
    "\n",
    "### 2.1. Realizando a análise\n",
    "\n",
    "> Como exemplo, vamos utilizar um isolado de Maio de 2021, na Índia (MZ310580.1). [Clique aqui para baixar o genoma](sars-cov-2-example-genome.fasta).\n",
    "\n",
    "Apesar de podermos realizar estas análises todas pela linha de comando, acredito que o minicurso tomaria um percurso muito específico e talvez se tornasse bastante difícil de ser acompanhado. Desta forma, explicarei como usufruir das ferramentas e bancos de dados online (gratuitos) disponíveis de forma a destrinchar e melhor entender como são feitas análises de vigilância envolvendo o SARS-CoV-2.\n",
    "\n",
    "> Por exemplo, dado o sequenciamento do genoma de um novo isolado, como podemos definir suas linhagens? Suas mutações? Seu posicionamento na árvore filogenética? Como saber monitorar as linhagens e mutações no mundo? Etc.\n",
    "\n",
    "#### 2.1.1. Identificando a linhagem\n",
    "\n",
    "Para identificação da linhagem, podemos rapidamente usar o programa [pangolin](https://pangolin.cog-uk.io/) através da sua interface web ou de linha de comando.\n",
    "\n",
    "> Execute os códigos abaixo e veja os resultados, você consegue me dizer qual a linhagem do genoma?"
   ]
  },
  {
   "cell_type": "code",
   "execution_count": null,
   "metadata": {},
   "outputs": [],
   "source": [
    "%%bash\n",
    "# use pangolin para definir a linhagem\n",
    "pangolin -o pango_results sars-cov-2-example-genome.fasta"
   ]
  },
  {
   "cell_type": "code",
   "execution_count": null,
   "metadata": {},
   "outputs": [],
   "source": [
    "# veja os resultados\n",
    "import pandas as pd\n",
    "pd.read_csv('pango_results/lineage_report.csv', sep=',')"
   ]
  },
  {
   "cell_type": "markdown",
   "metadata": {},
   "source": [
    "#### 2.1.2. Como identificar as mutações?\n",
    "\n",
    "O programa [Nextclade](https://clades.nextstrain.org/), possui uma ferramenta em linha de comando capaz de rapidamente identificar as mutações e identificar o clado de um genoma em questão.\n",
    "\n",
    "> Execute os códigos abaixo e veja os resultados. Quantas mutações este genoma tem? Elas são referentes a linhagem Delta? Qual a proteína / gene com mais mutações?"
   ]
  },
  {
   "cell_type": "code",
   "execution_count": null,
   "metadata": {},
   "outputs": [],
   "source": [
    "%%bash\n",
    "# executando nextclade\n",
    "nextclade -i sars-cov-2-example-genome.fasta -t nextclade_results.tsv"
   ]
  },
  {
   "cell_type": "code",
   "execution_count": null,
   "metadata": {},
   "outputs": [],
   "source": [
    "# veja os resultados\n",
    "import pandas as pd\n",
    "pd.read_csv('nextclade_results.tsv', sep='\\t')"
   ]
  },
  {
   "cell_type": "markdown",
   "metadata": {},
   "source": [
    "#### 2.1.3 Usando as aplicações web\n",
    "\n",
    "Apesar de também possuírem linhas de comando, a maioria, o quase todas, as ferramentas utilizadas para as análises de SARS-CoV-2 possuem aplicações web. Estas aplicações web oferecem as seguintes vantagens:\n",
    "\n",
    "1. Atualização constante de seus banco de dados\n",
    "2. Integração rápida dos resultados com comparações com sequências de bancos de dados\n",
    "3. Permite a análise rápido e fácil de _N_ genomas ao mesmo tempo\n",
    "4. É mais simples para pessoas não familiarizadas com linha de comando, o que facilita e incentiva sua utilização por qualquer unidade de saúde de modo a possuir uma melhor vigilância do vírus e permitir uma padronização das análises\n",
    "5. Permite a existência de aplicações \"mais\" específicas que utilizem seus dados para a vigilância genômica de cepas e mutações\n",
    "\n",
    "Neste contexto, deixo abaixo uma lista dos principais recursos voltados ao acompanhamento e combate do SARS-CoV-2:\n",
    "\n",
    "> Abordaremos alguns em aula, os outros ficam de leitura complementar.\n",
    "\n",
    "1. [Pangolin][pangolin], utilizando para identificar linhagens\n",
    "2. [Nextclade][nextclade], utilizado para classificar sequências, identificar mutações e filogenia\n",
    "3. [covSPECTRUM][covspectrum], permite a vigilância e observação de estatísticas sobre variantes conhecidas em cada país\n",
    "4. [REGENERON][regeneron], permite a investigação das estatísticas e sequências da pandemia em um contexto global\n",
    "5. [Mutation Reports][mutation reports], possui relatórios simples e interessantes sobre as mutações de cada linhagem\n",
    "6. [CoVariants][covariants], possui relatórios um pouco mais completos, sobre as características de cada variante\n",
    "7. [Covid-Miner][covid miner], uma aplicação especializada na \"mineração\" de informação sobre covid que permite a investigação de informações relacionadas a variantes como: mutações conhecidas, distribuição georgráfica, etc.\n",
    "8. [CoVizu][covizu], uma aplicação que permite visualizar a diversidade global do vírus SARS-CoV-2\n",
    "9. [Covid CG][covid cg], possibilita a investigação das variações genéticas e dos alelos relacionados as mutações observadas na sequência viral, permitindo se informar sobre a distribuição geográfica e frequência de cada variação genética\n",
    "10. [Cov-GLUE][cov glue], é um programa desenvolvido em conjunto com a Universidade de Glasgow para o monitoramento do vírus no Reino Unido\n",
    "11. [Mutation Tracker][mutation tracker], permite observar o número total de mutações observadas em cada gene do genoma viral\n",
    "12. [Nextstrain][nextstrain], uma ferramenta incrível que permite o acompanhamento epidemiológico global completo com informações de tempo, localização, filogenia e variações genéticas, importantíssimo para o entendimento e vigilância de epidemias\n",
    "\n",
    "## 3. Exercícios complementares\n",
    "\n",
    "Durante a aula, foi mostrado um processo rotineiro de análise de genoma de SARS-CoV-2 utilizando linha de comando e algumas das aplicações web listadas acima. Para melhor compreensão de cada ferramenta, deixarei aqui dispostos alguns exercícios pontuais que podem ser respondidos através destas ferramentas e, assim, permitiram uma aprendizagem guiada e melhor entendimento destas ferramentas.\n",
    "\n",
    "1. Baixe o seguinte genoma <a href=\"https://webs.iiitd.edu.in/raghava/coronavir/genome_seq_files/MT050493.fa\" download=\"MT050493.fa\">(link)</a>. Utilizando o programa [Pangolin][pangolin], você consegue responder a que linhagem este genoma pertence?\n",
    "    + **Dica:** Baixe o genoma e salve-o em um arquivo chamado \"sars-cov-eexemplo.fasta\"\n",
    "    + **Dica:** No site, aperte o botão \"Select fasta file to upload\" e por fim, aperte o botão vermelho \"Start analysis\"\n",
    "    + **Dica:** Aperte o botão em formato de planeta Terra e veja o contexto mundial deste genoma\n",
    "2. Abra o programa [Nextclade][nextclade] e faça uma análise utilizando o mesmo genoma. Qual o número totais de mutações nucleotídicas e de aminoácidos desta cepa? O genoma é de boa qualidade?\n",
    "    + **Dica:** Tente brincar um pouco mais com o programa usando o conjunto de dados de exemplo disponibilizado. Procure na página pela frase \"Show me an Example\".\n",
    "3. Utilizando o programa [covSPECTRUM][covspectrum], responda:\n",
    "    + No Brazil, Qual a variante se encontra em alta? Isto é, vem apresentado cada vez mais casos?\n",
    "    + Qual se encontra em baixa?\n",
    "    + Clique na variante que se encontra em baixa e diga:\n",
    "        - Atualmente esta variante corresponde a mais de 50% dos casos?\n",
    "        - Em algum momento ela representou mais de 50% dos casos?\n",
    "        - Esta variante é mais prevalente em qual faixa etária?\n",
    "        - Em qual estado ela é mais prevalente?\n",
    "        - Esta variante possui vantagem de transmissibilidade?\n",
    "4. Utilizando o programa [REGENERON][regeneron], no mapa inicial, clique no Brasil e responda:\n",
    "    + No Brasil, houve uma alteração de dominância entre variantes do SARS-CoV-2? Isto é, em algum momento X, uma variante deixou de ser dominante / prevalente no país dando espaço a outra? Quais são estas variantes?\n",
    "    + No Espírio Santo, qual a prevalência de variantes?\n",
    "    + Clicando no botão \"Miscellaneous\", você consegue dizer qual região do planeta mais sequenciou genomas de SARS-CoV-2?\n",
    "5. Utilizando o programa [Mutation Reports][mutation reports], responda:\n",
    "    + Na variante P.1, qual o gene (ou proteína) que possui o maior número de mutações?\n",
    "    + Qual estado brasileiro possui o maior número de casos? E o menor?\n",
    "    + Qual estado possui a maior prevalência desta variante?\n",
    "6. Através do programa [CoVariants][covariants], diga:\n",
    "    + Qual a variante predominante nos países europeus?\n",
    "    + Esta variante tem a mesma relevância no Brasil?\n",
    "    + **Dica:** Clique na opção \"[Per country](https://covariants.org/per-country)\" no topo da página.\n",
    "7. Para o programa [Nextstrain][nextstrain] não deixarei nenhuma pergunta em específico, apenas a recomendação para que explorem e brinquem um pouco com a plataforma. Está é uma das principais plataformas da atualidade para exploração, investigação e interpretação dos dados mundiais de SARS-CoV-2. Desta mesma forma, indico a exploração do programa [CoVizu][covizu].\n",
    "\n",
    "\n",
    "[pangolin]: https://pangolin.cog-uk.io/\n",
    "[nextclade]: https://clades.nextstrain.org/\n",
    "[covspectrum]: https://cov-spectrum.ethz.ch/explore/Switzerland/AllSamples/AllTimes\n",
    "[regeneron]: https://covid19dashboard.regeneron.com/?tab=Home&subTab=Europe\n",
    "[mutation reports]: https://outbreak.info/situation-reports\n",
    "[covariants]: https://covariants.org/\n",
    "[covid miner]: https://covid-miner.ifo.gov.it/app/home\n",
    "[covizu]: http://filogeneti.ca/covizu/\n",
    "[covid cg]: https://covidcg.org/?tab=location\n",
    "[cov glue]: http://cov-glue.cvr.gla.ac.uk/#/home\n",
    "[mutation tracker]: https://users.math.msu.edu/users/weig/SARS-CoV-2_Mutation_Tracker.html\n",
    "[nextstrain]: https://nextstrain.org/ncov/global\n",
    "[genoma exemplo]: https://webs.iiitd.edu.in/raghava/coronavir/genome_seq_files/MT050493.fa"
   ]
  }
 ],
 "metadata": {
  "colab": {
   "collapsed_sections": [],
   "name": "teste_minicurso.ipynb",
   "provenance": [],
   "toc_visible": true
  },
  "kernelspec": {
   "display_name": "Python 3",
   "language": "python",
   "name": "python3"
  },
  "language_info": {
   "codemirror_mode": {
    "name": "ipython",
    "version": 3
   },
   "file_extension": ".py",
   "mimetype": "text/x-python",
   "name": "python",
   "nbconvert_exporter": "python",
   "pygments_lexer": "ipython3",
   "version": "3.9.1"
  }
 },
 "nbformat": 4,
 "nbformat_minor": 4
}
