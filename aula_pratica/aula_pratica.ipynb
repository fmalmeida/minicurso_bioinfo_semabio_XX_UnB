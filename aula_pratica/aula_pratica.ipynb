{
 "cells": [
  {
   "cell_type": "markdown",
   "metadata": {
    "id": "0avo2gvZrUm0"
   },
   "source": [
    "# Olá\n",
    "\n",
    "Autor: Felipe Marques de Almeida\n",
    "\n",
    "<img src=\"https://logodownload.org/wp-content/uploads/2014/09/twitter-logo-1.png\" width=\"20\"> [@fmarquesalmeida](https://twitter.com/fmarquesalmeida)\n",
    "\n",
    "Olá, este `jupyter notebook` foi criado com o objetivo de providenciar um rápido guia, bem simples, de como executar e utilizar `cadernos jupyter`. Estes cadernos serão utilizados para ministrar a aula prática do minicurso de Bioinformática da XX semabio UnB.\n",
    "\n",
    "> Este minicurso estará sempre publicamente disponível no github, sinta-se a vontade para utilizá-lo e revisitá-lo quando quiser. \n",
    ">\n",
    "> -- https://fmalmeida.github.io/minicurso_bioinfo_semabio_XX_UnB/"
   ]
  },
  {
   "cell_type": "markdown",
   "metadata": {
    "id": "f9I2s1j8f2dI"
   },
   "source": [
    "# Aula prática\n",
    "\n",
    "Na aula prática deste minicurso iremos aprender como funcionam e como utilizar algumas das principais ferramentas e bancos de dados utilizados atualmente na Bioinformática. Veremos alguns dos principais recursos e bancos de dados que estão sendo utilizados para o estudo, monitoramento e combate do SARS-CoV-2.\n",
    "\n",
    "> Começaremos dos bancos e ferramentas mais gerais para os mais especializados\n",
    "\n",
    "# Ideia\n",
    "\n",
    "A prática tem que ser sobre covid mesmo. Quais os tópicos do minicurso (algum blast?)\n",
    "Você pode usar a prática para desmistificar algumas coisas:\n",
    "\n",
    "1. O vírus foi feito em laboratório? ➝ usar alinhamento múltiplo com outros SARS e fazer uma árvore básica no jalview mesmo\n",
    "2. Quais as mutações encontradas na variante P1 e indiana em relação ao genoma inicial do vírus. Verificar quais os amino ácidos alterados (Spike).\n",
    "3. Também você pode inferir a taxa de alteração de bases por ano o que tem implicações com o surgimento de novas variantes e até eficiência de vacinas\n",
    "\n",
    "<div><span>Text</span></div>"
   ]
  },
  {
   "cell_type": "markdown",
   "metadata": {
    "id": "2pNDwzPw_MzW"
   },
   "source": [
    "# 1. Traçando a origem do novo Coronavirus (2019-nCoV)\n",
    "\n",
    "> De onde surgiu o 2019-nCoV?\n",
    "\n",
    "Para tentar responder esta pergunta, precisamos criar uma [árvore filogenética][arvore] do vírus com outros vírus SARS. A árvore nos fornecerá uma representação visual do caminho evolutivo mais provável das espécies. Uma árvore filogenética é construída com base em um arquivo de alinhamento múltiplo de sequências. Estas sequências podem ser genes ou proteínas pré-definidas, ou até mesmo genomas inteiros.\n",
    "\n",
    "No contexto da era genômica, tem-se a facilidade de sequenciar o genoma completo do vírus de diversos pacientes. Isso permite comparar diversos genomas relativos ao surto para verificar se as conclusões que tiramos com os dois genomas acima se mantém. Devido ao tamanho pequeno dos genomas virais, quase sempre adota-se o alinhamento e filogenia utilizando o genoma completo, a não ser que se deseje traçar o caminho evolutivo de um gene em específico.\n",
    "\n",
    "Desta forma, se coletarmos outros genomas de surtos anteriores de outros Coronavirus (MERS [middle east respiratory syndrome], SARS [Severe acute respiratory syndrome]) e também genomas de outros hospedeiros (morcegos, camelos), pode-se postular qual o hospedeiro original do 2019-nCoV.\n",
    "\n",
    "No [NCBI][ncbi] foi feita uma seleção prévia de alguns genomas completos de diversos tipos de Coronavirus, cujos números de acesso são:\n",
    "\n",
    "> MN908947.3<br>\n",
    "MG772933.1<br>\n",
    "NC_004718.3<br>\n",
    "MN988669.1<br>\n",
    "MN988668.1<br>\n",
    "MN994467.1<br>\n",
    "KX574227.1<br>\n",
    "MF598691.1<br>\n",
    "MN985325.1<br>\n",
    "\n",
    "**Estes números de acesso foram salvos em um arquivo chamado \"lista_accs_cov_origem.txt\"**\n",
    "\n",
    "## 1.1 Baixando os genomas virais\n",
    "\n",
    "O primeiro passo para realizarmos a análise filogenética é, obtermos as sequências genômicas em [arquivos FASTA][fasta]. Para isso utilizaremos o programa [ncbi-acc-download][acc-down].\n",
    "\n",
    "> Este programa já se encontra pré-instalado no nosso caderno de exercícios. Podemos usar o comando `ncbi-acc-download -h` para checar como utilizá-lo, veja abaixo:\n",
    "\n",
    "[ncbi]: https://www.ncbi.nlm.nih.gov/\n",
    "[arvore]: https://pt.khanacademy.org/science/biology/her/tree-of-life/a/phylogenetic-trees\n",
    "[fasta]: https://pt.wikipedia.org/wiki/Formato_FASTA\n",
    "[acc-down]: https://github.com/kblin/ncbi-acc-download"
   ]
  },
  {
   "cell_type": "code",
   "execution_count": null,
   "metadata": {},
   "outputs": [],
   "source": [
    "ncbi-acc-download -h"
   ]
  },
  {
   "cell_type": "markdown",
   "metadata": {},
   "source": [
    "---\n",
    "\n",
    "Ao observar a mensagem de ajuda acima, percebemos que a forma mais comum de utilização do programa é `ncbi-acc-download <NUM-DE-ACESSO>`.\n",
    "\n",
    "Tendo isto em mente, e sabendo que precisaremos usar somente os parâmetros `-F fasta` e `-o`, como poderíamos usar este programa para baixar as sequências de genoma listadas anteriormente?\n",
    "\n",
    "> Você consegue pensar em algo? Tente respoder usando a célula de código abaixo, não tenha medo de errar. O erro nos induz a aprendizagem. Caso você realmente não consiga, pode ver a [resposta](## \"ncbi-acc-download -F fasta -o genomas_cov_para_filogenia.fasta $(cat lista_accs_cov_origem.txt)\") (coloque o mouse sobre a palavra \"resposta\" ou abra o [link](https://github.com/fmalmeida/minicurso_bioinfo_semabio_XX_UnB/blob/main/respostas_da_pratica/baixando_genomas_com_ncbi-acc-download.sh))."
   ]
  },
  {
   "cell_type": "code",
   "execution_count": 7,
   "metadata": {},
   "outputs": [],
   "source": [
    "# tente criar seu código aqui! Não precisa remover esta linha, basta digitar o código abaixo.\n",
    "# Lembre-se de não usar o \"#\" no início das linhas pois ele indica linhas de comentário"
   ]
  },
  {
   "cell_type": "markdown",
   "metadata": {},
   "source": [
    "## 1.2 Alinhando os genomas\n",
    "\n",
    "O segundo passo, após a obtenção dos genomas desejados é a realização de um [alinhamento múltiplo de sequências](https://pt.wikipedia.org/wiki/Alinhamento_m%C3%BAltiplo_de_sequ%C3%AAncias). Em termos bem gerais, alinhar sequências consiste em posicionar as sequências \"alinhadas\" em colunas da melhor forma possível com o objetivo de encontrar regiões de similaridade entre elas, como mostrado na figura abaixo:\n",
    "\n",
    "\n",
    "<figure>\n",
    "    <center>\n",
    "        <img src=\"https://img.vivaolinux.com.br/imagens/artigos/comunidade/clustalx_sequencia.gif\" width=\"50%\">\n",
    "    </center>\n",
    "        <figcaption>Fig. 1. Exemplificação de alinhamento múltiplo de sequências. Regiões conservadas, ou seja, regiões de similaridade, são coloridas com a mesma cor de forma a permitir a fácil identificação da conservação entre as sequências. São estas informações de similaridade que são usadas por programas de filogenia para \"desenhar\" árvores filogenéticas.</figcaption>\n",
    "</figure>\n",
    "\n",
    "Um dos principais programas utilizados na atualidade para a realização do alinhamento múltiplo entre sequências é o programa [MAFFT](https://mafft.cbrc.jp/alignment/software/).\n",
    "\n",
    "> Este programa já se encontra pré-instalado em nosso caderno de exercícios. Podemos usar o comando `mafft -h` para entender sua utilização, que é bastante simples."
   ]
  },
  {
   "cell_type": "code",
   "execution_count": null,
   "metadata": {},
   "outputs": [],
   "source": [
    "mafft -h"
   ]
  },
  {
   "cell_type": "markdown",
   "metadata": {},
   "source": [
    "---\n",
    "\n",
    "Ao observar a mensagem de ajuda acima, percebemos que a forma mais comum de utilização do programa é `mafft <ARQUIVO FASTA> > <ARQUIVO FINAL DE ALINHAMENTO>`.\n",
    "\n",
    "Tendo isto em mente, e sabendo que precisaremos usar somente os parâmetros `--auto` para permitir ao programa escolher os melhores parâmetros sozinho e o parâmetro `--clustalout` para deixar o arquivo em um formato mais utilizado chamado clustal, como poderíamos usar este programa para baixar as sequências de genoma listadas anteriormente?\n",
    "\n",
    "> Você consegue pensar em algo? Tente respoder usando a célula de código abaixo, não tenha medo de errar. O erro nos induz a aprendizagem. Caso você realmente não consiga, pode ver a [resposta](## \"mafft --auto --clustalout genomas_cov_para_filogenia.fasta > genomas_cov_alinhados.clustal\") (coloque o mouse sobre a palavra \"resposta\" ou abra o [link](https://github.com/fmalmeida/minicurso_bioinfo_semabio_XX_UnB/blob/main/respostas_da_pratica/alinhando_genomas_com_mafft.sh))."
   ]
  },
  {
   "cell_type": "code",
   "execution_count": null,
   "metadata": {},
   "outputs": [],
   "source": [
    "# tente criar seu código aqui! Não precisa remover esta linha, basta digitar o código abaixo.\n",
    "# Lembre-se de não usar o \"#\" no início das linhas pois ele indica linhas de comentário"
   ]
  },
  {
   "cell_type": "markdown",
   "metadata": {},
   "source": [
    "## 1.3 Construindo a árvore filogenética\n",
    "\n",
    "Finalmente, após termos alinhado todos os genomas Coronavírus selecionados, podemos utilizar o resultado para a construção de uma árvore filogenética. Existem diversos programas ([lista de programas](https://en.wikipedia.org/wiki/List_of_phylogenetics_software)), tanto em linha de comando quanto em aplicações web que podem ser utilizados para a construção de árvores filogenéticas.\n",
    "\n",
    "Ao escolher um programa devemos sempre ter em mente que não existe um programa ideal, que resolva todas as necessidades de uma análise. Cada programa possui uma metodologia e algoritmo diferente que lhes proprocionam pontos fracos e fortes que devem sempre ser considerados.\n",
    "\n",
    "Para o nosso caso, como desejamos obter somente uma prévia da estrutura da árvore filogenética, temos poucas sequências e desejamos priorizar velocidade e pouco consumo de memória, utilizaremos o programa [iqtree](http://www.iqtree.org/).\n",
    "\n",
    "> Este programa já se encontra pré-instalado em nosso caderno de exercícios. Podemos usar o comando `iqtree -h` para entender sua utilização, que é bastante simples."
   ]
  },
  {
   "cell_type": "code",
   "execution_count": null,
   "metadata": {},
   "outputs": [],
   "source": [
    "iqtree -h"
   ]
  },
  {
   "cell_type": "markdown",
   "metadata": {},
   "source": [
    "---\n",
    "\n",
    "Ao observar a mensagem de ajuda acima, percebemos que a forma mais comum de utilização do programa é `iqtree -s <ARQUIVO DE ALINHAMENTO>`. Como poderíamos usar este programa para baixar as sequências de genoma listadas anteriormente?\n",
    "\n",
    "> Você consegue pensar em algo? Tente respoder usando a célula de código abaixo, não tenha medo de errar. O erro nos induz a aprendizagem. Caso você realmente não consiga, pode ver a [resposta](## \"iqtree -s genomas_cov_alinhados.clustal\") (coloque o mouse sobre a palavra \"resposta\" ou abra o [link](https://github.com/fmalmeida/minicurso_bioinfo_semabio_XX_UnB/blob/main/respostas_da_pratica/construindo_arvores_com_iqtree.sh)).\n",
    "\n",
    "Este programa irá produzir diversos arquivos em nossa pasta que são utilizados para o cálcula e predição da árvore filogenética que será armazenada em um arquivo final com o sufixo `.treefile`."
   ]
  },
  {
   "cell_type": "code",
   "execution_count": null,
   "metadata": {},
   "outputs": [],
   "source": [
    "# tente criar seu código aqui! Não precisa remover esta linha, basta digitar o código abaixo.\n",
    "# Lembre-se de não usar o \"#\" no início das linhas pois ele indica linhas de comentário"
   ]
  },
  {
   "cell_type": "code",
   "execution_count": null,
   "metadata": {},
   "outputs": [],
   "source": [
    "# veja os resultados com o programa \"ls\"\n",
    "ls"
   ]
  },
  {
   "cell_type": "markdown",
   "metadata": {},
   "source": [
    "## 1.4 Visualização da árvore filogenética\n",
    "\n",
    "Assim como as ferramentas, ou programas, para realizar o alinhamento de sequências e o cálculo da árvore, existem inúmeros programas para a visualização de árvores filogenéticas, em linha de comando ou em aplicações web (veja uma [breve lista de programas](https://www.biostars.org/p/2438/)).\n",
    "\n",
    "Desta forma, assim como na etapa anterior, estamos somente desejando uma visualização rápida dos resultados, focando na velocidade e simplicidade. Tendo isto em mente, duas ferramentas são extremamente eficientes para a tarefa: o conjunto de ferramentas [ete3](http://etetoolkit.org/) e o programa [plottree](https://github.com/iBiology/plottree).\n",
    "\n",
    "### 1.4.1 Ete3\n",
    "\n",
    "O pacote ete3 possui uma ferramenta super simples chamada `ete3 view` que permite a rápida visualização de árvores filogenéticas no próprio terminal, sem criar arquivos de figura ou necessitar de ferramentas gráficas. É uma alternativa excelente para quando estamos trabalhando em servidores sem janelas gráficas e desejamos ter uma breve noção dos resultados.\n",
    "\n",
    "> Tente executar a seguinte linha de comando:"
   ]
  },
  {
   "cell_type": "code",
   "execution_count": null,
   "metadata": {},
   "outputs": [],
   "source": [
    "ete3 view --text -t genomas_cov_alinhados.clustal.treefile"
   ]
  },
  {
   "cell_type": "markdown",
   "metadata": {},
   "source": [
    "### 1.4.2 plottree\n",
    "\n",
    "Apesar de super eficiente e prático, o programa ete3 não gera uma visualização gráfica da árvore, mas sim uma visualização textual. Para termos uma figura da árvore filogenética de maneira bem simples e rápida temos o programa plottree, que apesar de rápido e eficiente, não permite a edição interativa das árvores geradas.\n",
    "\n",
    "> Tente executar a seguinte linha de comando:"
   ]
  },
  {
   "cell_type": "code",
   "execution_count": null,
   "metadata": {},
   "outputs": [],
   "source": [
    "plottree genomas_cov_alinhados.clustal.treefile"
   ]
  }
 ],
 "metadata": {
  "colab": {
   "collapsed_sections": [],
   "name": "teste_minicurso.ipynb",
   "provenance": [],
   "toc_visible": true
  },
  "kernelspec": {
   "display_name": "Bash",
   "language": "bash",
   "name": "bash"
  },
  "language_info": {
   "codemirror_mode": "shell",
   "file_extension": ".sh",
   "mimetype": "text/x-sh",
   "name": "bash"
  }
 },
 "nbformat": 4,
 "nbformat_minor": 4
}
