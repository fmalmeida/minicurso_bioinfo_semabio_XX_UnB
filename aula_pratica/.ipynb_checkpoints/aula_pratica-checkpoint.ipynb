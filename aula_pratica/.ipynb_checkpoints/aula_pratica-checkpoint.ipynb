{
 "cells": [
  {
   "cell_type": "markdown",
   "metadata": {
    "id": "0avo2gvZrUm0"
   },
   "source": [
    "# Olá\n",
    "\n",
    "Autor: Felipe Marques de Almeida\n",
    "\n",
    "<img src=\"https://logodownload.org/wp-content/uploads/2014/09/twitter-logo-1.png\" width=\"20\"> [@fmarquesalmeida](https://twitter.com/fmarquesalmeida)\n",
    "\n",
    "Olá, este `jupyter notebook` foi criado com o objetivo de providenciar um rápido guia, bem simples, de como executar e utilizar `cadernos jupyter`. Estes cadernos serão utilizados para ministrar a aula prática do minicurso de Bioinformática da XX semabio UnB.\n",
    "\n",
    "> Este minicurso estará sempre publicamente disponível no github, sinta-se a vontade para utilizá-lo e revisitá-lo quando quiser. \n",
    ">\n",
    "> -- https://fmalmeida.github.io/minicurso_bioinfo_semabio_XX_UnB/"
   ]
  },
  {
   "cell_type": "markdown",
   "metadata": {
    "id": "f9I2s1j8f2dI"
   },
   "source": [
    "# Aula prática\n",
    "\n",
    "Na aula prática deste minicurso iremos aprender como funcionam e como utilizar algumas das principais ferramentas e bancos de dados utilizados atualmente na Bioinformática. Veremos alguns dos principais recursos e bancos de dados que estão sendo utilizados para o estudo, monitoramento e combate do SARS-CoV-2.\n",
    "\n",
    "> Começaremos dos bancos e ferramentas mais gerais para os mais especializados\n",
    "\n",
    "## Índice\n",
    "\n",
    "* National Center for Biotechnology Information (NCBI)\n",
    "    - Basic Local Alignment Search Tool (BLAST)\n",
    "        - Como identificar quais os genomas do banco de dados são mais similares ao meu genoma alvo (genoma em estudo)?\n",
    "        - Como identificar se um genoma possui um gene específico?\n",
    "* Uniprot\n",
    "* Ensembl\n",
    "* Multiple alignment using fast Fourier transform (MAFFT)\n",
    "    - Como utilizar esta ferramenta para construir árvores filogenéticas?\n",
    "* Type Strain Genome Server\n",
    "* CARD\n",
    "    - Como identificar genes de resistência em um genoma bacteriano?\n",
    "* GISAID\n",
    "* Nextstrain"
   ]
  },
  {
   "cell_type": "markdown",
   "metadata": {
    "id": "2pNDwzPw_MzW"
   },
   "source": [
    "## 1. National Center for Biotechnology Information (NCBI)\n",
    "\n",
    "<center>\n",
    "<img src=\"https://s3.amazonaws.com/libapps/accounts/5290/images/NCBI_homepage.jpg\" width=\"50%\">\n",
    "</center>\n",
    "\n",
    "[NCBI][ncbi] é um banco de dados de sequências biológicas público mantido pelo NIH. É um banco de dados não-curado de sequências primárias, isto é, armazena sequências genômicas, gênicas e protéicas de qualquer organismo.\n",
    "    \n",
    "No NCBI, além de arquivos de sequência, anotação, estruturas proteicas, etc, são também armazenados e indexados publicações, listas de amostras, dados de taxonomia, dados de variantes, navegadores genômicos e gênicos, dados brutos, entre outras coisas. Este é **com certeza** um dos principais bancos de dados para a Bioinformática.\n",
    "\n",
    "O banco de dados conta com diversas ferramentas que permitem a análise e interrogação de sequências de DNA, RNA e Aminoácidos. Uma das principais ferramentas distribuídas pelo banco de dados é o [BLAST][blast].\n",
    "\n",
    "### 1.1 BLAST\n",
    "\n",
    "<center>\n",
    "<img src=\"https://widdowquinn.github.io/2018-03-06-ibioic/02-sequence_databases/images/01-01_ncbi_landing.png\" width=\"50%\">\n",
    "</center>\n",
    "\n",
    "[ncbi]: ncbi.nlm.nih.gov/\n",
    "[blast]: https://blast.ncbi.nlm.nih.gov/Blast.cgi"
   ]
  }
 ],
 "metadata": {
  "colab": {
   "collapsed_sections": [],
   "name": "teste_minicurso.ipynb",
   "provenance": [],
   "toc_visible": true
  },
  "kernelspec": {
   "display_name": "Python 3",
   "language": "python",
   "name": "python3"
  },
  "language_info": {
   "codemirror_mode": {
    "name": "ipython",
    "version": 3
   },
   "file_extension": ".py",
   "mimetype": "text/x-python",
   "name": "python",
   "nbconvert_exporter": "python",
   "pygments_lexer": "ipython3",
   "version": "3.7.6"
  }
 },
 "nbformat": 4,
 "nbformat_minor": 4
}
